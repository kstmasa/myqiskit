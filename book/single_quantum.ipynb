{
 "cells": [
  {
   "cell_type": "code",
   "execution_count": null,
   "metadata": {},
   "outputs": [],
   "source": [
    "from qiskit import *\n",
    "from qiskit.visualization import plot_bloch_multivector\n",
    "import math\n",
    "def single_qubitcircuit(qr,qc, hub):\n",
    "\n",
    "    simulator = Aer.get_backend('statevector_simulator')\n",
    "    q = qr\n",
    "    circuit = qc\n",
    "    if hub == 'id':\n",
    "        circuit.id(q[0])\n",
    "    elif hub == 'h':\n",
    "        circuit.h(q[0])\n",
    "    elif hub == 'x':\n",
    "        circuit.x(q[0])\n",
    "    elif hub == 'y':\n",
    "        circuit.y(q[0])\n",
    "    elif hub == 'z':\n",
    "        circuit.z(q[0])\n",
    "    elif hub == 'rx':\n",
    "        circuit.rx(math.pi/2, q[0])\n",
    "    elif hub == 'ry':\n",
    "        circuit.ry(math.pi/2, q[0])\n",
    "    elif hub == 'rz':\n",
    "        circuit.h(q[0])\n",
    "        circuit.rz(math.pi/2, q[0])\n",
    "    \n",
    "    circuit.draw()\n",
    "    job = execute(circuit, simulator)\n",
    "    result = job.result()\n",
    "    statevector = result.get_statevector()\n",
    "    print(statevector)\n",
    "    print(circuit)\n",
    "    plot_bloch_multivector(statevector)"
   ]
  }
 ],
 "metadata": {
  "kernelspec": {
   "display_name": "Python 3",
   "language": "python",
   "name": "python3"
  },
  "language_info": {
   "name": "python",
   "version": "3.9.6"
  },
  "orig_nbformat": 4,
  "vscode": {
   "interpreter": {
    "hash": "31f2aee4e71d21fbe5cf8b01ff0e069b9275f58929596ceb00d14d90e3e16cd6"
   }
  }
 },
 "nbformat": 4,
 "nbformat_minor": 2
}
