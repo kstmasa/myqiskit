{
 "cells": [
  {
   "cell_type": "code",
   "execution_count": null,
   "metadata": {},
   "outputs": [],
   "source": [
    "from qiskit import *\n",
    "from qiskit.visualization import plot_bloch_multivector\n",
    "import math\n",
    "def double_qubitcircuit(qr,qc, state, hub):\n",
    "    q = qr\n",
    "    circuit = qc\n",
    "\n",
    "    # State\n",
    "    if state == \"00\":\n",
    "        circuit.id(q[0])\n",
    "        circuit.id(q[1])\n",
    "    elif state == \"01\":\n",
    "        circuit.x(q[0])\n",
    "        circuit.id(q[1])\n",
    "    elif state == \"10\":\n",
    "        circuit.id(q[0])\n",
    "        circuit.x(q[1])\n",
    "    elif state == \"11\":\n",
    "        circuit.x(q[0])\n",
    "        circuit.x(q[1])\n",
    "    \n",
    "    #Hub\n",
    "\n",
    "    if hub == \"CNOT\":\n",
    "        circuit.cx(q[1], q[0])\n",
    "    elif hub == \"SWAP\":\n",
    "        circuit.swap(q[1], q[0])\n",
    "    \n",
    "    circuit.draw()\n",
    "    simulator = Aer.get_backend('statevector_simulator')\n",
    "    job = execute(circuit, simulator)\n",
    "    result = job.result()\n",
    "    statevector = result.get_statevector()\n",
    "    print(statevector)\n",
    "    print(circuit)\n",
    "    plot_bloch_multivector(statevector)\n",
    "\n"
   ]
  }
 ],
 "metadata": {
  "kernelspec": {
   "display_name": "Python 3",
   "language": "python",
   "name": "python3"
  },
  "language_info": {
   "name": "python",
   "version": "3.9.6"
  },
  "orig_nbformat": 4,
  "vscode": {
   "interpreter": {
    "hash": "31f2aee4e71d21fbe5cf8b01ff0e069b9275f58929596ceb00d14d90e3e16cd6"
   }
  }
 },
 "nbformat": 4,
 "nbformat_minor": 2
}
