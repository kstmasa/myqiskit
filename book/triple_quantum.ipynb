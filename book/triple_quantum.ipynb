{
 "cells": [
  {
   "cell_type": "code",
   "execution_count": 1,
   "metadata": {},
   "outputs": [],
   "source": [
    "from qiskit import *\n",
    "from qiskit.visualization import plot_bloch_multivector\n",
    "import math\n",
    "def triple_qubitcircuit(qr,qc, state, hub):\n",
    "    q = qr\n",
    "    circuit = qc\n",
    "    if len(state) ==3 and state[2] == \"1\":\n",
    "        circuit.x(q[0])\n",
    "    if len(state) ==3  and state[1] == \"1\":\n",
    "        circuit.x(q[1])\n",
    "    if len(state) ==3 and state[0] == \"1\":\n",
    "        circuit.x(q[2])\n",
    "    #Hub\n",
    "\n",
    "    if hub == \"CCNOT\":\n",
    "        circuit.ccx(q[2], q[1], q[0])\n",
    "    \n",
    "    circuit.draw()\n",
    "    simulator = Aer.get_backend('statevector_simulator')\n",
    "    job = execute(circuit, simulator)\n",
    "    result = job.result()\n",
    "    statevector = result.get_statevector()\n",
    "    print(statevector)\n",
    "    print(circuit)\n",
    "    plot_bloch_multivector(statevector)\n",
    "\n"
   ]
  }
 ],
 "metadata": {
  "kernelspec": {
   "display_name": "Python 3",
   "language": "python",
   "name": "python3"
  },
  "language_info": {
   "codemirror_mode": {
    "name": "ipython",
    "version": 3
   },
   "file_extension": ".py",
   "mimetype": "text/x-python",
   "name": "python",
   "nbconvert_exporter": "python",
   "pygments_lexer": "ipython3",
   "version": "3.9.6"
  },
  "orig_nbformat": 4,
  "vscode": {
   "interpreter": {
    "hash": "31f2aee4e71d21fbe5cf8b01ff0e069b9275f58929596ceb00d14d90e3e16cd6"
   }
  }
 },
 "nbformat": 4,
 "nbformat_minor": 2
}
