{
 "cells": [
  {
   "cell_type": "code",
   "execution_count": 1,
   "metadata": {},
   "outputs": [
    {
     "name": "stderr",
     "output_type": "stream",
     "text": [
      "/var/folders/06/5v2zswx96d33fzcc8pg25drw0000gn/T/ipykernel_7579/1095484827.py:9: DeprecationWarning: The qiskit.IBMQ entrypoint and the qiskit-ibmq-provider package (accessible from 'qiskit.providers.ibmq`) are deprecated and will be removed in a future release. Instead you should use the qiskit-ibm-provider package which is accessible from 'qiskit_ibm_provider'. You can install it with 'pip install qiskit_ibm_provider'. Just replace 'qiskit.IBMQ' with 'qiskit_ibm_provider.IBMProvider'\n",
      "  provider = IBMQ.load_account()\n"
     ]
    }
   ],
   "source": [
    "import io, os, sys, types\n",
    "from nbformat import read\n",
    "%run ./lib/init.ipynb\n",
    "initfunc()"
   ]
  },
  {
   "cell_type": "code",
   "execution_count": 2,
   "metadata": {},
   "outputs": [],
   "source": [
    "%run ./book/single_quantum.ipynb\n",
    "q1 = QuantumRegister(1)"
   ]
  },
  {
   "cell_type": "code",
   "execution_count": 5,
   "metadata": {},
   "outputs": [
    {
     "name": "stdout",
     "output_type": "stream",
     "text": [
      "Statevector([1.+0.j, 0.+0.j],\n",
      "            dims=(2,))\n",
      "    ┌───┐\n",
      "q0: ┤ I ├\n",
      "    └───┘\n",
      "Statevector([0.70710678+0.j, 0.70710678+0.j],\n",
      "            dims=(2,))\n",
      "    ┌───┐\n",
      "q0: ┤ H ├\n",
      "    └───┘\n",
      "Statevector([0.+0.j, 1.+0.j],\n",
      "            dims=(2,))\n",
      "    ┌───┐\n",
      "q0: ┤ X ├\n",
      "    └───┘\n",
      "Statevector([0.-0.j, 0.+1.j],\n",
      "            dims=(2,))\n",
      "    ┌───┐\n",
      "q0: ┤ Y ├\n",
      "    └───┘\n",
      "Statevector([ 1.+0.j, -0.+0.j],\n",
      "            dims=(2,))\n",
      "    ┌───┐\n",
      "q0: ┤ Z ├\n",
      "    └───┘\n"
     ]
    }
   ],
   "source": [
    "# ID, H, X, Y, Z\n",
    "single_qubitcircuit(q1,QuantumCircuit(q1),'id')\n",
    "single_qubitcircuit(q1,QuantumCircuit(q1),'h')\n",
    "single_qubitcircuit(q1,QuantumCircuit(q1),'x')\n",
    "single_qubitcircuit(q1,QuantumCircuit(q1),'y')\n",
    "single_qubitcircuit(q1,QuantumCircuit(q1),'z')"
   ]
  },
  {
   "cell_type": "code",
   "execution_count": 7,
   "metadata": {},
   "outputs": [
    {
     "name": "stdout",
     "output_type": "stream",
     "text": [
      "Statevector([0.70710678+0.j        , 0.        -0.70710678j],\n",
      "            dims=(2,))\n",
      "    ┌─────────┐\n",
      "q0: ┤ Rx(π/2) ├\n",
      "    └─────────┘\n",
      "Statevector([0.70710678+0.j, 0.70710678+0.j],\n",
      "            dims=(2,))\n",
      "    ┌─────────┐\n",
      "q0: ┤ Ry(π/2) ├\n",
      "    └─────────┘\n",
      "Statevector([0.5-0.5j, 0.5+0.5j],\n",
      "            dims=(2,))\n",
      "    ┌───┐┌─────────┐\n",
      "q0: ┤ H ├┤ Rz(π/2) ├\n",
      "    └───┘└─────────┘\n"
     ]
    }
   ],
   "source": [
    "# Rx, Ry, Rz\n",
    "single_qubitcircuit(q1,QuantumCircuit(q1),'rx')\n",
    "single_qubitcircuit(q1,QuantumCircuit(q1),'ry')\n",
    "single_qubitcircuit(q1,QuantumCircuit(q1),'rz')\n"
   ]
  },
  {
   "cell_type": "code",
   "execution_count": 12,
   "metadata": {},
   "outputs": [
    {
     "name": "stdout",
     "output_type": "stream",
     "text": [
      "Statevector([1.+0.j, 0.+0.j, 0.+0.j, 0.+0.j],\n",
      "            dims=(2, 2))\n",
      "       ┌───┐\n",
      "q54_0: ┤ I ├\n",
      "       ├───┤\n",
      "q54_1: ┤ I ├\n",
      "       └───┘\n",
      "Statevector([0.+0.j, 1.+0.j, 0.+0.j, 0.+0.j],\n",
      "            dims=(2, 2))\n",
      "       ┌───┐\n",
      "q54_0: ┤ X ├\n",
      "       ├───┤\n",
      "q54_1: ┤ I ├\n",
      "       └───┘\n",
      "Statevector([0.+0.j, 0.+0.j, 1.+0.j, 0.+0.j],\n",
      "            dims=(2, 2))\n",
      "       ┌───┐\n",
      "q54_0: ┤ I ├\n",
      "       ├───┤\n",
      "q54_1: ┤ X ├\n",
      "       └───┘\n",
      "Statevector([0.+0.j, 0.+0.j, 0.+0.j, 1.+0.j],\n",
      "            dims=(2, 2))\n",
      "       ┌───┐\n",
      "q54_0: ┤ X ├\n",
      "       ├───┤\n",
      "q54_1: ┤ X ├\n",
      "       └───┘\n"
     ]
    }
   ],
   "source": [
    "%run ./book/double_quantum.ipynb\n",
    "q2 = QuantumRegister(2)\n",
    "\n",
    "double_qubitcircuit(q2, QuantumCircuit(q2), \"00\", \"\")\n",
    "double_qubitcircuit(q2, QuantumCircuit(q2), \"01\", \"\")\n",
    "double_qubitcircuit(q2, QuantumCircuit(q2), \"10\", \"\")\n",
    "double_qubitcircuit(q2, QuantumCircuit(q2), \"11\", \"\")"
   ]
  },
  {
   "cell_type": "code",
   "execution_count": 13,
   "metadata": {},
   "outputs": [
    {
     "name": "stdout",
     "output_type": "stream",
     "text": [
      "Statevector([1.+0.j, 0.+0.j, 0.+0.j, 0.+0.j],\n",
      "            dims=(2, 2))\n",
      "       ┌───┐┌───┐\n",
      "q54_0: ┤ I ├┤ X ├\n",
      "       ├───┤└─┬─┘\n",
      "q54_1: ┤ I ├──■──\n",
      "       └───┘     \n",
      "Statevector([0.+0.j, 1.+0.j, 0.+0.j, 0.+0.j],\n",
      "            dims=(2, 2))\n",
      "       ┌───┐┌───┐\n",
      "q54_0: ┤ X ├┤ X ├\n",
      "       ├───┤└─┬─┘\n",
      "q54_1: ┤ I ├──■──\n",
      "       └───┘     \n",
      "Statevector([0.+0.j, 0.+0.j, 0.+0.j, 1.+0.j],\n",
      "            dims=(2, 2))\n",
      "       ┌───┐┌───┐\n",
      "q54_0: ┤ I ├┤ X ├\n",
      "       ├───┤└─┬─┘\n",
      "q54_1: ┤ X ├──■──\n",
      "       └───┘     \n",
      "Statevector([0.+0.j, 0.+0.j, 1.+0.j, 0.+0.j],\n",
      "            dims=(2, 2))\n",
      "       ┌───┐┌───┐\n",
      "q54_0: ┤ X ├┤ X ├\n",
      "       ├───┤└─┬─┘\n",
      "q54_1: ┤ X ├──■──\n",
      "       └───┘     \n"
     ]
    }
   ],
   "source": [
    "\n",
    "double_qubitcircuit(q2, QuantumCircuit(q2), \"00\", \"CNOT\")\n",
    "double_qubitcircuit(q2, QuantumCircuit(q2), \"01\", \"CNOT\")\n",
    "double_qubitcircuit(q2, QuantumCircuit(q2), \"10\", \"CNOT\")\n",
    "double_qubitcircuit(q2, QuantumCircuit(q2), \"11\", \"CNOT\")"
   ]
  },
  {
   "cell_type": "code",
   "execution_count": 14,
   "metadata": {},
   "outputs": [
    {
     "name": "stdout",
     "output_type": "stream",
     "text": [
      "Statevector([1.+0.j, 0.+0.j, 0.+0.j, 0.+0.j],\n",
      "            dims=(2, 2))\n",
      "       ┌───┐   \n",
      "q54_0: ┤ I ├─X─\n",
      "       ├───┤ │ \n",
      "q54_1: ┤ I ├─X─\n",
      "       └───┘   \n",
      "Statevector([0.+0.j, 0.+0.j, 1.+0.j, 0.+0.j],\n",
      "            dims=(2, 2))\n",
      "       ┌───┐   \n",
      "q54_0: ┤ X ├─X─\n",
      "       ├───┤ │ \n",
      "q54_1: ┤ I ├─X─\n",
      "       └───┘   \n",
      "Statevector([0.+0.j, 1.+0.j, 0.+0.j, 0.+0.j],\n",
      "            dims=(2, 2))\n",
      "       ┌───┐   \n",
      "q54_0: ┤ I ├─X─\n",
      "       ├───┤ │ \n",
      "q54_1: ┤ X ├─X─\n",
      "       └───┘   \n",
      "Statevector([0.+0.j, 0.+0.j, 0.+0.j, 1.+0.j],\n",
      "            dims=(2, 2))\n",
      "       ┌───┐   \n",
      "q54_0: ┤ X ├─X─\n",
      "       ├───┤ │ \n",
      "q54_1: ┤ X ├─X─\n",
      "       └───┘   \n"
     ]
    }
   ],
   "source": [
    "\n",
    "double_qubitcircuit(q2, QuantumCircuit(q2), \"00\", \"SWAP\")\n",
    "double_qubitcircuit(q2, QuantumCircuit(q2), \"01\", \"SWAP\")\n",
    "double_qubitcircuit(q2, QuantumCircuit(q2), \"10\", \"SWAP\")\n",
    "double_qubitcircuit(q2, QuantumCircuit(q2), \"11\", \"SWAP\")"
   ]
  },
  {
   "cell_type": "code",
   "execution_count": 19,
   "metadata": {},
   "outputs": [
    {
     "name": "stdout",
     "output_type": "stream",
     "text": [
      "<class 'str'>\n",
      "Statevector([1.+0.j, 0.+0.j, 0.+0.j, 0.+0.j, 0.+0.j, 0.+0.j, 0.+0.j,\n",
      "             0.+0.j],\n",
      "            dims=(2, 2, 2))\n",
      "       \n",
      "q85_0: \n",
      "       \n",
      "q85_1: \n",
      "       \n",
      "q85_2: \n",
      "       \n"
     ]
    }
   ],
   "source": [
    "%run ./book/triple_quantum.ipynb\n",
    "q3 = QuantumRegister(3)\n",
    "\n",
    "\n",
    "triple_qubitcircuit(q3, QuantumCircuit(q3), \"000\", \"\")"
   ]
  },
  {
   "cell_type": "code",
   "execution_count": 20,
   "metadata": {},
   "outputs": [
    {
     "name": "stdout",
     "output_type": "stream",
     "text": [
      "<class 'str'>\n",
      "Statevector([0.+0.j, 0.+0.j, 0.+0.j, 0.+0.j, 0.+0.j, 0.+0.j, 0.+0.j,\n",
      "             1.+0.j],\n",
      "            dims=(2, 2, 2))\n",
      "            ┌───┐\n",
      "q85_0: ─────┤ X ├\n",
      "       ┌───┐└─┬─┘\n",
      "q85_1: ┤ X ├──■──\n",
      "       ├───┤  │  \n",
      "q85_2: ┤ X ├──■──\n",
      "       └───┘     \n"
     ]
    }
   ],
   "source": [
    "\n",
    "triple_qubitcircuit(q3, QuantumCircuit(q3), \"110\", \"CCNOT\")"
   ]
  }
 ],
 "metadata": {
  "kernelspec": {
   "display_name": "Python 3",
   "language": "python",
   "name": "python3"
  },
  "language_info": {
   "codemirror_mode": {
    "name": "ipython",
    "version": 3
   },
   "file_extension": ".py",
   "mimetype": "text/x-python",
   "name": "python",
   "nbconvert_exporter": "python",
   "pygments_lexer": "ipython3",
   "version": "3.9.6"
  },
  "orig_nbformat": 4,
  "vscode": {
   "interpreter": {
    "hash": "31f2aee4e71d21fbe5cf8b01ff0e069b9275f58929596ceb00d14d90e3e16cd6"
   }
  }
 },
 "nbformat": 4,
 "nbformat_minor": 2
}
