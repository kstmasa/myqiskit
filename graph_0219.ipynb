{
 "cells": [
  {
   "cell_type": "code",
   "execution_count": 3,
   "metadata": {},
   "outputs": [
    {
     "name": "stderr",
     "output_type": "stream",
     "text": [
      "ibmqfactory.load_account:WARNING:2023-03-22 02:43:45,976: Credentials are already in use. The existing account in the session will be replaced.\n"
     ]
    }
   ],
   "source": [
    "import io, os, sys, types\n",
    "from nbformat import read\n",
    "%run ./lib/init.ipynb\n",
    "initfunc()"
   ]
  },
  {
   "cell_type": "markdown",
   "metadata": {},
   "source": []
  },
  {
   "cell_type": "code",
   "execution_count": 4,
   "metadata": {},
   "outputs": [],
   "source": [
    "from qiskit import *\n",
    "from qiskit.visualization import plot_bloch_multivector\n",
    "import math"
   ]
  },
  {
   "cell_type": "code",
   "execution_count": 5,
   "metadata": {},
   "outputs": [],
   "source": [
    "q3 = QuantumRegister(3)"
   ]
  },
  {
   "cell_type": "code",
   "execution_count": 17,
   "metadata": {},
   "outputs": [
    {
     "ename": "ImportError",
     "evalue": "DLL load failed while importing controller_wrappers: 找不到指定的模組。",
     "output_type": "error",
     "traceback": [
      "\u001b[1;31m---------------------------------------------------------------------------\u001b[0m",
      "\u001b[1;31mImportError\u001b[0m                               Traceback (most recent call last)",
      "Cell \u001b[1;32mIn[17], line 30\u001b[0m\n\u001b[0;32m     27\u001b[0m circuit\u001b[39m.\u001b[39mmeasure(qreg_q[\u001b[39m2\u001b[39m],\u001b[39m2\u001b[39m)\n\u001b[0;32m     28\u001b[0m circuit\u001b[39m.\u001b[39mdraw()\n\u001b[1;32m---> 30\u001b[0m \u001b[39mfrom\u001b[39;00m \u001b[39mqiskit_aer\u001b[39;00m\u001b[39m.\u001b[39;00m\u001b[39maerprovider\u001b[39;00m \u001b[39mimport\u001b[39;00m AerSimulator\n\u001b[0;32m     31\u001b[0m simulator \u001b[39m=\u001b[39m AerSimulator()\n\u001b[0;32m     33\u001b[0m \u001b[39m#simulator = Aer.get_backend('aer_simulator')\u001b[39;00m\n",
      "File \u001b[1;32mc:\\Users\\a7275\\AppData\\Local\\Programs\\Python\\Python38\\lib\\site-packages\\qiskit_aer\\__init__.py:69\u001b[0m\n\u001b[0;32m     65\u001b[0m     np\u001b[39m.\u001b[39mdot(np\u001b[39m.\u001b[39mzeros(\u001b[39m100\u001b[39m), np\u001b[39m.\u001b[39mzeros(\u001b[39m100\u001b[39m))\n\u001b[0;32m     66\u001b[0m \u001b[39m# ... ¯\\_(ツ)_/¯\u001b[39;00m\n\u001b[0;32m     67\u001b[0m \n\u001b[0;32m     68\u001b[0m \u001b[39m# pylint: disable=wrong-import-position\u001b[39;00m\n\u001b[1;32m---> 69\u001b[0m \u001b[39mfrom\u001b[39;00m \u001b[39mqiskit_aer\u001b[39;00m\u001b[39m.\u001b[39;00m\u001b[39maerprovider\u001b[39;00m \u001b[39mimport\u001b[39;00m AerProvider\n\u001b[0;32m     70\u001b[0m \u001b[39mfrom\u001b[39;00m \u001b[39mqiskit_aer\u001b[39;00m\u001b[39m.\u001b[39;00m\u001b[39mjobs\u001b[39;00m \u001b[39mimport\u001b[39;00m AerJob, AerJobSet\n\u001b[0;32m     71\u001b[0m \u001b[39mfrom\u001b[39;00m \u001b[39mqiskit_aer\u001b[39;00m\u001b[39m.\u001b[39;00m\u001b[39maererror\u001b[39;00m \u001b[39mimport\u001b[39;00m AerError\n",
      "File \u001b[1;32mc:\\Users\\a7275\\AppData\\Local\\Programs\\Python\\Python38\\lib\\site-packages\\qiskit_aer\\aerprovider.py:21\u001b[0m\n\u001b[0;32m     18\u001b[0m \u001b[39mfrom\u001b[39;00m \u001b[39mqiskit\u001b[39;00m\u001b[39m.\u001b[39;00m\u001b[39mproviders\u001b[39;00m \u001b[39mimport\u001b[39;00m ProviderV1 \u001b[39mas\u001b[39;00m Provider\n\u001b[0;32m     19\u001b[0m \u001b[39mfrom\u001b[39;00m \u001b[39mqiskit\u001b[39;00m\u001b[39m.\u001b[39;00m\u001b[39mproviders\u001b[39;00m\u001b[39m.\u001b[39;00m\u001b[39mproviderutils\u001b[39;00m \u001b[39mimport\u001b[39;00m filter_backends\n\u001b[1;32m---> 21\u001b[0m \u001b[39mfrom\u001b[39;00m \u001b[39m.\u001b[39;00m\u001b[39mbackends\u001b[39;00m\u001b[39m.\u001b[39;00m\u001b[39maer_simulator\u001b[39;00m \u001b[39mimport\u001b[39;00m AerSimulator\n\u001b[0;32m     22\u001b[0m \u001b[39mfrom\u001b[39;00m \u001b[39m.\u001b[39;00m\u001b[39mbackends\u001b[39;00m\u001b[39m.\u001b[39;00m\u001b[39mqasm_simulator\u001b[39;00m \u001b[39mimport\u001b[39;00m QasmSimulator\n\u001b[0;32m     23\u001b[0m \u001b[39mfrom\u001b[39;00m \u001b[39m.\u001b[39;00m\u001b[39mbackends\u001b[39;00m\u001b[39m.\u001b[39;00m\u001b[39mstatevector_simulator\u001b[39;00m \u001b[39mimport\u001b[39;00m StatevectorSimulator\n",
      "File \u001b[1;32mc:\\Users\\a7275\\AppData\\Local\\Programs\\Python\\Python38\\lib\\site-packages\\qiskit_aer\\backends\\__init__.py:17\u001b[0m\n\u001b[0;32m      1\u001b[0m \u001b[39m# This code is part of Qiskit.\u001b[39;00m\n\u001b[0;32m      2\u001b[0m \u001b[39m#\u001b[39;00m\n\u001b[0;32m      3\u001b[0m \u001b[39m# (C) Copyright IBM 2018, 2019.\u001b[39;00m\n\u001b[1;32m   (...)\u001b[0m\n\u001b[0;32m     10\u001b[0m \u001b[39m# copyright notice, and modified files need to carry a notice indicating\u001b[39;00m\n\u001b[0;32m     11\u001b[0m \u001b[39m# that they have been altered from the originals.\u001b[39;00m\n\u001b[0;32m     13\u001b[0m \u001b[39m\"\"\"\u001b[39;00m\n\u001b[0;32m     14\u001b[0m \u001b[39mAer Provider Simulator Backends\u001b[39;00m\n\u001b[0;32m     15\u001b[0m \u001b[39m\"\"\"\u001b[39;00m\n\u001b[1;32m---> 17\u001b[0m \u001b[39mfrom\u001b[39;00m \u001b[39m.\u001b[39;00m\u001b[39maer_simulator\u001b[39;00m \u001b[39mimport\u001b[39;00m AerSimulator\n\u001b[0;32m     18\u001b[0m \u001b[39mfrom\u001b[39;00m \u001b[39m.\u001b[39;00m\u001b[39mqasm_simulator\u001b[39;00m \u001b[39mimport\u001b[39;00m QasmSimulator\n\u001b[0;32m     19\u001b[0m \u001b[39mfrom\u001b[39;00m \u001b[39m.\u001b[39;00m\u001b[39mstatevector_simulator\u001b[39;00m \u001b[39mimport\u001b[39;00m StatevectorSimulator\n",
      "File \u001b[1;32mc:\\Users\\a7275\\AppData\\Local\\Programs\\Python\\Python38\\lib\\site-packages\\qiskit_aer\\backends\\aer_simulator.py:24\u001b[0m\n\u001b[0;32m     21\u001b[0m \u001b[39mfrom\u001b[39;00m \u001b[39mqiskit\u001b[39;00m\u001b[39m.\u001b[39;00m\u001b[39mtranspiler\u001b[39;00m\u001b[39m.\u001b[39;00m\u001b[39mtarget\u001b[39;00m \u001b[39mimport\u001b[39;00m target_to_backend_properties\n\u001b[0;32m     23\u001b[0m \u001b[39mfrom\u001b[39;00m \u001b[39m.\u001b[39;00m\u001b[39m.\u001b[39;00m\u001b[39mversion\u001b[39;00m \u001b[39mimport\u001b[39;00m __version__\n\u001b[1;32m---> 24\u001b[0m \u001b[39mfrom\u001b[39;00m \u001b[39m.\u001b[39;00m\u001b[39maerbackend\u001b[39;00m \u001b[39mimport\u001b[39;00m AerBackend, AerError\n\u001b[0;32m     25\u001b[0m \u001b[39mfrom\u001b[39;00m \u001b[39m.\u001b[39;00m\u001b[39mbackend_utils\u001b[39;00m \u001b[39mimport\u001b[39;00m (cpp_execute_circuits, cpp_execute_qobj,\n\u001b[0;32m     26\u001b[0m                             available_methods, available_devices,\n\u001b[0;32m     27\u001b[0m                             MAX_QUBITS_STATEVECTOR,\n\u001b[0;32m     28\u001b[0m                             BASIS_GATES)\n\u001b[0;32m     29\u001b[0m \u001b[39m# pylint: disable=import-error, no-name-in-module\u001b[39;00m\n",
      "File \u001b[1;32mc:\\Users\\a7275\\AppData\\Local\\Programs\\Python\\Python38\\lib\\site-packages\\qiskit_aer\\backends\\aerbackend.py:35\u001b[0m\n\u001b[0;32m     33\u001b[0m \u001b[39mfrom\u001b[39;00m \u001b[39m.\u001b[39;00m\u001b[39m.\u001b[39;00m\u001b[39mnoise\u001b[39;00m\u001b[39m.\u001b[39;00m\u001b[39mnoise_model\u001b[39;00m \u001b[39mimport\u001b[39;00m NoiseModel, QuantumErrorLocation\n\u001b[0;32m     34\u001b[0m \u001b[39mfrom\u001b[39;00m \u001b[39m.\u001b[39;00m\u001b[39m.\u001b[39;00m\u001b[39mnoise\u001b[39;00m\u001b[39m.\u001b[39;00m\u001b[39merrors\u001b[39;00m\u001b[39m.\u001b[39;00m\u001b[39mquantum_error\u001b[39;00m \u001b[39mimport\u001b[39;00m QuantumChannelInstruction\n\u001b[1;32m---> 35\u001b[0m \u001b[39mfrom\u001b[39;00m \u001b[39m.\u001b[39;00m\u001b[39maer_compiler\u001b[39;00m \u001b[39mimport\u001b[39;00m compile_circuit, assemble_circuits, generate_aer_config\n\u001b[0;32m     36\u001b[0m \u001b[39mfrom\u001b[39;00m \u001b[39m.\u001b[39;00m\u001b[39mbackend_utils\u001b[39;00m \u001b[39mimport\u001b[39;00m format_save_type, circuit_optypes\n\u001b[0;32m     38\u001b[0m \u001b[39m# Logger\u001b[39;00m\n",
      "File \u001b[1;32mc:\\Users\\a7275\\AppData\\Local\\Programs\\Python\\Python38\\lib\\site-packages\\qiskit_aer\\backends\\aer_compiler.py:34\u001b[0m\n\u001b[0;32m     32\u001b[0m \u001b[39mfrom\u001b[39;00m \u001b[39mqiskit_aer\u001b[39;00m\u001b[39m.\u001b[39;00m\u001b[39maererror\u001b[39;00m \u001b[39mimport\u001b[39;00m AerError\n\u001b[0;32m     33\u001b[0m \u001b[39m# pylint: disable=import-error, no-name-in-module\u001b[39;00m\n\u001b[1;32m---> 34\u001b[0m \u001b[39mfrom\u001b[39;00m \u001b[39mqiskit_aer\u001b[39;00m\u001b[39m.\u001b[39;00m\u001b[39mbackends\u001b[39;00m\u001b[39m.\u001b[39;00m\u001b[39mcontroller_wrappers\u001b[39;00m \u001b[39mimport\u001b[39;00m AerCircuit, AerConfig\n\u001b[0;32m     35\u001b[0m \u001b[39mfrom\u001b[39;00m \u001b[39m.\u001b[39;00m\u001b[39mbackend_utils\u001b[39;00m \u001b[39mimport\u001b[39;00m circuit_optypes\n\u001b[0;32m     36\u001b[0m \u001b[39mfrom\u001b[39;00m \u001b[39m.\u001b[39;00m\u001b[39m.\u001b[39;00m\u001b[39mlibrary\u001b[39;00m\u001b[39m.\u001b[39;00m\u001b[39mcontrol_flow_instructions\u001b[39;00m \u001b[39mimport\u001b[39;00m AerMark, AerJump\n",
      "\u001b[1;31mImportError\u001b[0m: DLL load failed while importing controller_wrappers: 找不到指定的模組。"
     ]
    }
   ],
   "source": [
    "from qiskit import QuantumRegister, ClassicalRegister, QuantumCircuit\n",
    "from numpy import pi\n",
    "\n",
    "qreg_q = QuantumRegister(3, 'q')\n",
    "creg_c = ClassicalRegister(1, 'c')\n",
    "creg_d = ClassicalRegister(1, 'd')\n",
    "creg_e = ClassicalRegister(1, 'e')\n",
    "circuit = QuantumCircuit(qreg_q, creg_c, creg_d, creg_e)\n",
    "\n",
    "circuit.h(qreg_q[0])\n",
    "circuit.h(qreg_q[1])\n",
    "circuit.h(qreg_q[2])\n",
    "circuit.cz(qreg_q[1], qreg_q[2])\n",
    "circuit.cz(qreg_q[0], qreg_q[1])\n",
    "circuit.cz(qreg_q[0], qreg_q[2])\n",
    "circuit.barrier(qreg_q[0], qreg_q[1], qreg_q[2])\n",
    "#針對第一顆 做x measure\n",
    "circuit.h(qreg_q[0])\n",
    "circuit.measure(qreg_q[0],0)\n",
    "circuit.barrier(qreg_q[0], qreg_q[1], qreg_q[2])\n",
    "\n",
    "#針對第二顆 做z measure\n",
    "circuit.measure(qreg_q[1],1)\n",
    "circuit.barrier(qreg_q[0], qreg_q[1], qreg_q[2])\n",
    "\n",
    "#針對第三顆 做z measure\n",
    "circuit.measure(qreg_q[2],2)\n",
    "circuit.draw()\n",
    "\n",
    "\n",
    "# simulator = Aer.get_backend('qasm_simulator')\n",
    "# job = execute(circuit, simulator)\n",
    "# result = job.result()\n",
    "# counts = result.get_counts()\n",
    "# print(counts)\n",
    "\n",
    "\n",
    "# from qiskit.visualization import plot_histogram\n",
    "# plot_histogram(counts)"
   ]
  },
  {
   "cell_type": "code",
   "execution_count": null,
   "metadata": {},
   "outputs": [
    {
     "ename": "",
     "evalue": "",
     "output_type": "error",
     "traceback": [
      "\u001b[1;31m無法啟動 Kernel。 \n",
      "\u001b[1;31mWARNING: You are using pip version 19.2.3, however version 23.0.1 is available.\n",
      "\u001b[1;31mYou should consider upgrading via the 'python -m pip install --upgrade pip' command. \n",
      "\u001b[1;31m如需詳細資料，請檢視 Jupyter <a href='command:jupyter.viewOutput'>記錄</a>。"
     ]
    }
   ],
   "source": [
    "from numpy.random import randint\n",
    "import numpy as np\n",
    "np.random.seed(seed=0)\n",
    "n = 8\n",
    "## Step 1\n",
    "#Alice generates bits\n",
    "alice_bits = randint(2, size=n)\n",
    "\n",
    "## Step 2\n",
    "# Create an array to tell us which qubits\n",
    "# are encoded in which bases\n",
    "alice_bases = randint(2, size=n)\n",
    "print(alice_bases)"
   ]
  },
  {
   "cell_type": "code",
   "execution_count": null,
   "metadata": {},
   "outputs": [
    {
     "ename": "",
     "evalue": "",
     "output_type": "error",
     "traceback": [
      "\u001b[1;31m無法啟動 Kernel。 \n",
      "\u001b[1;31mWARNING: You are using pip version 19.2.3, however version 23.0.1 is available.\n",
      "\u001b[1;31mYou should consider upgrading via the 'python -m pip install --upgrade pip' command. \n",
      "\u001b[1;31m如需詳細資料，請檢視 Jupyter <a href='command:jupyter.viewOutput'>記錄</a>。"
     ]
    }
   ],
   "source": [
    "from __init__ import GraphState\n",
    "from collections import Counter\n",
    "\n",
    "results = []\n",
    "for i in range(1000):\n",
    "  g = GraphState(3)\n",
    "  g.h(0)\n",
    "  g.h(1)\n",
    "  g.h(2)\n",
    "  g.cz(0, 1)\n",
    "  g.cz(0, 2)\n",
    "  #g.cz(1, 2)\n",
    "  g.measure(0,'Y')\n",
    "\n",
    "  if i == 0:\n",
    "    g.draw()\n",
    "\n",
    "  results.append(str(g.measure(1)) + str(g.measure(2)))\n",
    "\n",
    "print(Counter(results))"
   ]
  }
 ],
 "metadata": {
  "kernelspec": {
   "display_name": "Python 3",
   "language": "python",
   "name": "python3"
  },
  "language_info": {
   "codemirror_mode": {
    "name": "ipython",
    "version": 3
   },
   "file_extension": ".py",
   "mimetype": "text/x-python",
   "name": "python",
   "nbconvert_exporter": "python",
   "pygments_lexer": "ipython3",
   "version": "3.8.2rc2"
  },
  "orig_nbformat": 4,
  "vscode": {
   "interpreter": {
    "hash": "31f2aee4e71d21fbe5cf8b01ff0e069b9275f58929596ceb00d14d90e3e16cd6"
   }
  }
 },
 "nbformat": 4,
 "nbformat_minor": 2
}
