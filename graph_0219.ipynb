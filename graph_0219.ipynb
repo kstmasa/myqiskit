{
 "cells": [
  {
   "cell_type": "code",
   "execution_count": 1,
   "metadata": {},
   "outputs": [
    {
     "name": "stderr",
     "output_type": "stream",
     "text": [
      "C:\\Users\\masa.tseng\\AppData\\Local\\Temp\\ipykernel_22920\\1254987030.py:10: DeprecationWarning: The qiskit.IBMQ entrypoint and the qiskit-ibmq-provider package (accessible from 'qiskit.providers.ibmq`) are deprecated and will be removed in a future release. Instead you should use the qiskit-ibm-provider package which is accessible from 'qiskit_ibm_provider'. You can install it with 'pip install qiskit_ibm_provider'. Just replace 'qiskit.IBMQ' with 'qiskit_ibm_provider.IBMProvider'\n",
      "  provider = IBMQ.load_account()\n"
     ]
    }
   ],
   "source": [
    "import io, os, sys, types\n",
    "from nbformat import read\n",
    "%run ./lib/init.ipynb\n",
    "initfunc()"
   ]
  },
  {
   "cell_type": "markdown",
   "metadata": {},
   "source": []
  },
  {
   "cell_type": "code",
   "execution_count": 2,
   "metadata": {},
   "outputs": [],
   "source": [
    "from qiskit import *\n",
    "from qiskit.visualization import plot_bloch_multivector\n",
    "import math"
   ]
  },
  {
   "cell_type": "code",
   "execution_count": 3,
   "metadata": {},
   "outputs": [],
   "source": [
    "q3 = QuantumRegister(3)"
   ]
  },
  {
   "cell_type": "code",
   "execution_count": 208,
   "metadata": {},
   "outputs": [
    {
     "name": "stdout",
     "output_type": "stream",
     "text": [
      "---- 第一顆進行 x measure ----\n",
      "     ┌───┐          ░ ┌───┐┌─┐ ░     ░     ░ \n",
      "q_0: ┤ H ├────■──■──░─┤ H ├┤M├─░─────░─────░─\n",
      "     ├───┤    │  │  ░ └───┘└╥┘ ░ ┌─┐ ░     ░ \n",
      "q_1: ┤ H ├─■──■──┼──░───────╫──░─┤M├─░─────░─\n",
      "     ├───┤ │     │  ░       ║  ░ └╥┘ ░ ┌─┐ ░ \n",
      "q_2: ┤ H ├─■─────■──░───────╫──░──╫──░─┤M├─░─\n",
      "     └───┘          ░       ║  ░  ║  ░ └╥┘ ░ \n",
      "c: 3/═══════════════════════╩═════╩═════╩════\n",
      "                            0     1     2    \n",
      "{'101': 490, '011': 541, '000': 517, '110': 500}\n",
      "---- 第一顆進行 x measure ----\n",
      "     ┌───┐          ░ ┌───┐┌─┐ ░     ░     ░ ┌───┐┌─┐ ░          ░     ░ \n",
      "q_0: ┤ H ├────■──■──░─┤ H ├┤M├─░─────░─────░─┤ H ├┤M├─░──────────░─────░─\n",
      "     ├───┤    │  │  ░ └───┘└╥┘ ░ ┌─┐ ░     ░ └───┘└╥┘ ░ ┌───┐┌─┐ ░     ░ \n",
      "q_1: ┤ H ├─■──■──┼──░───────╫──░─┤M├─░─────░───────╫──░─┤ H ├┤M├─░─────░─\n",
      "     ├───┤ │     │  ░       ║  ░ └╥┘ ░ ┌─┐ ░       ║  ░ └───┘└╥┘ ░ ┌─┐ ░ \n",
      "q_2: ┤ H ├─■─────■──░───────╫──░──╫──░─┤M├─░───────╫──░───────╫──░─┤M├─░─\n",
      "     └───┘          ░       ║  ░  ║  ░ └╥┘ ░       ║  ░       ║  ░ └╥┘ ░ \n",
      "c: 3/═══════════════════════╩═════╩═════╩══════════╩══════════╩═════╩════\n",
      "                            0     1     2          0          1     2    \n",
      "{'101': 488, '110': 520, '000': 543, '011': 497}\n"
     ]
    }
   ],
   "source": [
    "from qiskit import QuantumRegister, ClassicalRegister, QuantumCircuit\n",
    "from numpy import pi\n",
    "from qiskit.visualization import plot_histogram\n",
    "\n",
    "qreg_q = QuantumRegister(3, 'q')\n",
    "creg_c = ClassicalRegister(3, 'c')\n",
    "circuit = QuantumCircuit(qreg_q, creg_c)\n",
    "aer_sim = Aer.get_backend('aer_simulator')\n",
    "circuit.h(qreg_q[0])\n",
    "circuit.h(qreg_q[1])\n",
    "circuit.h(qreg_q[2])\n",
    "circuit.cz(qreg_q[1], qreg_q[2])\n",
    "circuit.cz(qreg_q[0], qreg_q[1])\n",
    "circuit.cz(qreg_q[0], qreg_q[2])\n",
    "circuit.barrier(qreg_q[0], qreg_q[1], qreg_q[2])\n",
    "#針對第一顆 做x measure\n",
    "circuit.h(qreg_q[0])\n",
    "circuit.measure(qreg_q[0],0)\n",
    "circuit.barrier(qreg_q[0], qreg_q[1], qreg_q[2])\n",
    "\n",
    "#針對第二顆 做z measure\n",
    "#circuit.h(qreg_q[1])\n",
    "circuit.measure(qreg_q[1],1)\n",
    "circuit.barrier(qreg_q[0], qreg_q[1], qreg_q[2])\n",
    "\n",
    "#針對第三顆 做z measure\n",
    "#circuit.h(qreg_q[2])\n",
    "circuit.measure(qreg_q[2],2)\n",
    "circuit.barrier(qreg_q[0], qreg_q[1], qreg_q[2])\n",
    "\n",
    "print(\"---- 第一顆進行 x measure ----\")\n",
    "print(circuit.draw())\n",
    "\n",
    "qobj = assemble(circuit, shots=2048, memory=True)\n",
    "result = aer_sim.run(qobj).result()\n",
    "measured_bit = result.get_memory()\n",
    "counts = result.get_counts()\n",
    "print(counts)\n",
    "\n",
    "#針對第一顆 做x measure\n",
    "circuit.h(qreg_q[0])\n",
    "circuit.measure(qreg_q[0],0)\n",
    "circuit.barrier(qreg_q[0], qreg_q[1], qreg_q[2])\n",
    "\n",
    "\n",
    "#針對第二顆 做z measure\n",
    "#circuit.h(qreg_q[1])\n",
    "circuit.measure(qreg_q[1],1)\n",
    "circuit.barrier(qreg_q[0], qreg_q[1], qreg_q[2])\n",
    "\n",
    "#針對第三顆 做z measure\n",
    "#circuit.h(qreg_q[2])\n",
    "circuit.measure(qreg_q[2],2)\n",
    "circuit.barrier(qreg_q[0], qreg_q[1], qreg_q[2])\n",
    "\n",
    "print(\"---- 第一顆進行 x measure ----\")\n",
    "print(circuit.draw())\n",
    "\n",
    "\n",
    "\n",
    "#qobj = assemble(circuit, shots=2048, memory=True)\n",
    "result = aer_sim.run(qobj).result()\n",
    "measured_bit = result.get_memory()\n",
    "counts = result.get_counts()\n",
    "print(counts)\n",
    "#print(measured_bit)\n",
    "\n",
    "\n",
    "# simulator = Aer.get_backend('qasm_simulator')\n",
    "# job = execute(circuit, simulator)\n",
    "# result = job.result()\n",
    "# counts = result.get_counts()\n",
    "# print(counts)\n",
    "\n",
    "\n",
    "#ax0(counts)\n"
   ]
  },
  {
   "cell_type": "code",
   "execution_count": 194,
   "metadata": {},
   "outputs": [
    {
     "name": "stdout",
     "output_type": "stream",
     "text": [
      "     ┌───┐          ░ ┌───┐┌─┐ ░     ░     ░ ┌─┐ ░          ░     ░ \n",
      "q_0: ┤ H ├────■──■──░─┤ H ├┤M├─░─────░─────░─┤M├─░──────────░─────░─\n",
      "     ├───┤    │  │  ░ └───┘└╥┘ ░ ┌─┐ ░     ░ └╥┘ ░ ┌───┐┌─┐ ░     ░ \n",
      "q_1: ┤ H ├─■──■──┼──░───────╫──░─┤M├─░─────░──╫──░─┤ Z ├┤M├─░─────░─\n",
      "     ├───┤ │     │  ░       ║  ░ └╥┘ ░ ┌─┐ ░  ║  ░ └───┘└╥┘ ░ ┌─┐ ░ \n",
      "q_2: ┤ H ├─■─────■──░───────╫──░──╫──░─┤M├─░──╫──░───────╫──░─┤M├─░─\n",
      "     └───┘          ░       ║  ░  ║  ░ └╥┘ ░  ║  ░       ║  ░ └╥┘ ░ \n",
      "c: 3/═══════════════════════╩═════╩═════╩═════╩══════════╩═════╩════\n",
      "                            0     1     2     0          1     2    \n",
      "{'101': 530, '110': 518, '011': 502, '000': 498}\n"
     ]
    }
   ],
   "source": [
    "\n",
    "\n"
   ]
  },
  {
   "cell_type": "code",
   "execution_count": 5,
   "metadata": {},
   "outputs": [
    {
     "name": "stdout",
     "output_type": "stream",
     "text": [
      "[1 1 1 0 0 1 0 0]\n"
     ]
    }
   ],
   "source": [
    "from numpy.random import randint\n",
    "import numpy as np\n",
    "np.random.seed(seed=0)\n",
    "n = 8\n",
    "## Step 1\n",
    "#Alice generates bits\n",
    "alice_bits = randint(2, size=n)\n",
    "\n",
    "## Step 2\n",
    "# Create an array to tell us which qubits\n",
    "# are encoded in which bases\n",
    "alice_bases = randint(2, size=n)\n",
    "print(alice_bases)"
   ]
  },
  {
   "cell_type": "code",
   "execution_count": 6,
   "metadata": {},
   "outputs": [
    {
     "data": {
      "image/png": "[encoded data removed]",
      "text/plain": [
       "<Figure size 432x288 with 1 Axes>"
      ]
     },
     "metadata": {},
     "output_type": "display_data"
    },
    {
     "name": "stdout",
     "output_type": "stream",
     "text": [
      "Counter({'00': 261, '10': 250, '11': 245, '01': 244})\n"
     ]
    }
   ],
   "source": [
    "from __init__ import GraphState\n",
    "from collections import Counter\n",
    "\n",
    "results = []\n",
    "for i in range(1000):\n",
    "  g = GraphState(3)\n",
    "  g.h(0)\n",
    "  g.h(1)\n",
    "  g.h(2)\n",
    "  g.cz(0, 1)\n",
    "  g.cz(0, 2)\n",
    "  #g.cz(1, 2)\n",
    "  g.measure(0,'Y')\n",
    "\n",
    "  if i == 0:\n",
    "    g.draw()\n",
    "\n",
    "  results.append(str(g.measure(1)) + str(g.measure(2)))\n",
    "\n",
    "print(Counter(results))"
   ]
  }
 ],
 "metadata": {
  "kernelspec": {
   "display_name": "Python 3",
   "language": "python",
   "name": "python3"
  },
  "language_info": {
   "codemirror_mode": {
    "name": "ipython",
    "version": 3
   },
   "file_extension": ".py",
   "mimetype": "text/x-python",
   "name": "python",
   "nbconvert_exporter": "python",
   "pygments_lexer": "ipython3",
   "version": "3.8.2rc2"
  },
  "orig_nbformat": 4,
  "vscode": {
   "interpreter": {
    "hash": "31f2aee4e71d21fbe5cf8b01ff0e069b9275f58929596ceb00d14d90e3e16cd6"
   }
  }
 },
 "nbformat": 4,
 "nbformat_minor": 2
}
