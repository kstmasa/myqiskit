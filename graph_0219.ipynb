{
 "cells": [
  {
   "cell_type": "code",
   "execution_count": 12,
   "metadata": {},
   "outputs": [
    {
     "name": "stderr",
     "output_type": "stream",
     "text": [
      "ibmqfactory.load_account:WARNING:2023-02-28 12:57:48,032: Credentials are already in use. The existing account in the session will be replaced.\n"
     ]
    }
   ],
   "source": [
    "import io, os, sys, types\n",
    "from nbformat import read\n",
    "%run ./lib/init.ipynb\n",
    "initfunc()"
   ]
  },
  {
   "cell_type": "markdown",
   "metadata": {},
   "source": []
  },
  {
   "cell_type": "code",
   "execution_count": 13,
   "metadata": {},
   "outputs": [],
   "source": [
    "from qiskit import *\n",
    "from qiskit.visualization import plot_bloch_multivector\n",
    "import math"
   ]
  },
  {
   "cell_type": "code",
   "execution_count": 14,
   "metadata": {},
   "outputs": [],
   "source": [
    "q3 = QuantumRegister(3)"
   ]
  },
  {
   "cell_type": "code",
   "execution_count": 139,
   "metadata": {},
   "outputs": [
    {
     "data": {
      "text/html": [
       "<pre style=\"word-wrap: normal;white-space: pre;background: #fff0;line-height: 1.1;font-family: &quot;Courier New&quot;,Courier,monospace\">     ┌───┐         \n",
       "q_0: ┤ H ├────■──■─\n",
       "     ├───┤    │  │ \n",
       "q_1: ┤ H ├─■──■──┼─\n",
       "     ├───┤ │     │ \n",
       "q_2: ┤ H ├─■─────■─\n",
       "     └───┘         \n",
       "c: 1/══════════════\n",
       "                   \n",
       "d: 1/══════════════\n",
       "                   \n",
       "e: 1/══════════════\n",
       "                   </pre>"
      ],
      "text/plain": [
       "     ┌───┐         \n",
       "q_0: ┤ H ├────■──■─\n",
       "     ├───┤    │  │ \n",
       "q_1: ┤ H ├─■──■──┼─\n",
       "     ├───┤ │     │ \n",
       "q_2: ┤ H ├─■─────■─\n",
       "     └───┘         \n",
       "c: 1/══════════════\n",
       "                   \n",
       "d: 1/══════════════\n",
       "                   \n",
       "e: 1/══════════════\n",
       "                   "
      ]
     },
     "execution_count": 139,
     "metadata": {},
     "output_type": "execute_result"
    }
   ],
   "source": [
    "from qiskit import QuantumRegister, ClassicalRegister, QuantumCircuit\n",
    "from numpy import pi\n",
    "\n",
    "qreg_q = QuantumRegister(3, 'q')\n",
    "creg_c = ClassicalRegister(1, 'c')\n",
    "creg_d = ClassicalRegister(1, 'd')\n",
    "creg_e = ClassicalRegister(1, 'e')\n",
    "circuit = QuantumCircuit(qreg_q, creg_c, creg_d, creg_e)\n",
    "\n",
    "circuit.h(qreg_q[0])\n",
    "circuit.h(qreg_q[1])\n",
    "circuit.h(qreg_q[2])\n",
    "circuit.cz(qreg_q[1], qreg_q[2])\n",
    "circuit.cz(qreg_q[0], qreg_q[1])\n",
    "circuit.cz(qreg_q[0], qreg_q[2])\n",
    "circuit.draw()\n",
    "\n",
    "#circuit.measure()\n",
    "\n",
    "# simulator = Aer.get_backend('qasm_simulator')\n",
    "# job = execute(circuit, simulator)\n",
    "# result = job.result()\n",
    "# counts = result.get_counts()\n",
    "# print(counts)\n",
    "\n",
    "\n",
    "# from qiskit.visualization import plot_histogram\n",
    "# plot_histogram(counts)"
   ]
  },
  {
   "cell_type": "code",
   "execution_count": 77,
   "metadata": {},
   "outputs": [
    {
     "name": "stdout",
     "output_type": "stream",
     "text": [
      "[1 1 1 0 0 1 0 0]\n"
     ]
    }
   ],
   "source": [
    "from numpy.random import randint\n",
    "import numpy as np\n",
    "np.random.seed(seed=0)\n",
    "n = 8\n",
    "## Step 1\n",
    "#Alice generates bits\n",
    "alice_bits = randint(2, size=n)\n",
    "\n",
    "## Step 2\n",
    "# Create an array to tell us which qubits\n",
    "# are encoded in which bases\n",
    "alice_bases = randint(2, size=n)\n",
    "print(alice_bases)"
   ]
  },
  {
   "cell_type": "code",
   "execution_count": 132,
   "metadata": {},
   "outputs": [
    {
     "data": {
      "image/png": "[encoded data removed]",
      "text/plain": [
       "<Figure size 640x480 with 1 Axes>"
      ]
     },
     "metadata": {},
     "output_type": "display_data"
    },
    {
     "name": "stdout",
     "output_type": "stream",
     "text": [
      "Counter({'10': 268, '01': 247, '11': 244, '00': 241})\n"
     ]
    }
   ],
   "source": [
    "from __init__ import GraphState\n",
    "from collections import Counter\n",
    "\n",
    "results = []\n",
    "for i in range(1000):\n",
    "  g = GraphState(3)\n",
    "  g.h(0)\n",
    "  g.h(1)\n",
    "  g.h(2)\n",
    "  g.cz(0, 1)\n",
    "  g.cz(0, 2)\n",
    "  #g.cz(1, 2)\n",
    "  g.measure(0,'Y')\n",
    "\n",
    "  if i == 0:\n",
    "    g.draw()\n",
    "\n",
    "  results.append(str(g.measure(1)) + str(g.measure(2)))\n",
    "\n",
    "print(Counter(results))"
   ]
  }
 ],
 "metadata": {
  "kernelspec": {
   "display_name": "Python 3",
   "language": "python",
   "name": "python3"
  },
  "language_info": {
   "codemirror_mode": {
    "name": "ipython",
    "version": 3
   },
   "file_extension": ".py",
   "mimetype": "text/x-python",
   "name": "python",
   "nbconvert_exporter": "python",
   "pygments_lexer": "ipython3",
   "version": "3.9.6"
  },
  "orig_nbformat": 4,
  "vscode": {
   "interpreter": {
    "hash": "31f2aee4e71d21fbe5cf8b01ff0e069b9275f58929596ceb00d14d90e3e16cd6"
   }
  }
 },
 "nbformat": 4,
 "nbformat_minor": 2
}
